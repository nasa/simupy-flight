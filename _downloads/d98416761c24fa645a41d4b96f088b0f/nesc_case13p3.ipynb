{
  "cells": [
    {
      "cell_type": "code",
      "execution_count": null,
      "metadata": {
        "collapsed": false
      },
      "outputs": [],
      "source": [
        "%matplotlib inline"
      ]
    },
    {
      "cell_type": "markdown",
      "metadata": {},
      "source": [
        "\n# Case 13.3: Course change of a subsonic aircraft\n\n==============  ===============\nVerifies        Multidimensional table look-up\nGravitation     J2\nGeodesy         WGS-84 rotating\nAtmosphere      US 1976 STD\nWinds           still air\nVehicle         F-16 with simple auto-pilot\nNotes           Initially straight & level. t=15s, command 15 degree right heading change\n==============  ===============\n\nFor the manuevering examples, the BlockDiagram from case 11 is modified to replace the\ncontroller with the auto-pilot configuration and generate the appropriate command\nsignals.\n"
      ]
    },
    {
      "cell_type": "code",
      "execution_count": null,
      "metadata": {
        "collapsed": false
      },
      "outputs": [],
      "source": [
        "from simupy import systems\nimport numpy as np\nfrom scipy import interpolate\n\nfrom nesc_testcase_helper import plot_nesc_comparisons, plot_F16_controls, benchmark\nfrom nesc_case11 import (\n    int_opts,\n    F16ControllerBlock,\n    BD,\n    spec_ic_args,\n    opt_ctrl,\n    dim_feedback,\n)\n\nbaseChiCmdBlock = systems.SystemFromCallable(\n    interpolate.make_interp_spline(\n        [0, 15],\n        [spec_ic_args[\"psi\"] * 180 / np.pi, spec_ic_args[\"psi\"] * 180 / np.pi + 15.0],\n        k=0,\n    ),\n    0,\n    1,\n)\n\nBD.systems[-1] = baseChiCmdBlock\nBD.systems[2] = F16ControllerBlock(*opt_ctrl, sasOn=True, apOn=True, event_t=15.)\n\nwith benchmark() as b:\n    res = BD.simulate(30, integrator_options=int_opts)"
      ]
    },
    {
      "cell_type": "code",
      "execution_count": null,
      "metadata": {
        "collapsed": false
      },
      "outputs": [],
      "source": [
        "plot_nesc_comparisons(res, \"13p3\")\nplot_F16_controls(res, \"13p3\")"
      ]
    }
  ],
  "metadata": {
    "kernelspec": {
      "display_name": "Python 3",
      "language": "python",
      "name": "python3"
    },
    "language_info": {
      "codemirror_mode": {
        "name": "ipython",
        "version": 3
      },
      "file_extension": ".py",
      "mimetype": "text/x-python",
      "name": "python",
      "nbconvert_exporter": "python",
      "pygments_lexer": "ipython3",
      "version": "3.8.10"
    }
  },
  "nbformat": 4,
  "nbformat_minor": 0
}