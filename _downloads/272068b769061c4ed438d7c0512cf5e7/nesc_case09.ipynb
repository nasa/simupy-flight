{
  "cells": [
    {
      "cell_type": "code",
      "execution_count": null,
      "metadata": {
        "collapsed": false
      },
      "outputs": [],
      "source": [
        "%matplotlib inline"
      ]
    },
    {
      "cell_type": "markdown",
      "metadata": {},
      "source": [
        "\n# Case 9: Sphere launched ballistically eastward along Equator\n\n==============  ===============\nVerifies        Translational EOM\nGravitation     J2\nGeodesy         WGS-84 rotating\nAtmosphere      US 1976 STD\nWinds           still air\nVehicle         Sphere with constant $C_D$\nNotes           Initial velocity is $\\sqrt{2000}$ ft/s aligned 45 degrees from\n                vertical, heading east; zero angular rate relative to launch platform.\n==============  ===============\n"
      ]
    },
    {
      "cell_type": "code",
      "execution_count": null,
      "metadata": {
        "collapsed": false
      },
      "outputs": [],
      "source": [
        "from simupy.block_diagram import BlockDiagram\nimport simupy_flight\nimport numpy as np\n\nfrom nesc_testcase_helper import plot_nesc_comparisons, int_opts, benchmark\nfrom nesc_testcase_helper import ft_per_m, kg_per_slug\n\nIxx = 3.6 * kg_per_slug / (ft_per_m**2)  # slug-ft2\nIyy = 3.6 * kg_per_slug / (ft_per_m**2)  # slug-ft2\nIzz = 3.6 * kg_per_slug / (ft_per_m**2)  # slug-ft2\nIxy = 0.0 * kg_per_slug / (ft_per_m**2)  # slug-ft2\nIyz = 0.0 * kg_per_slug / (ft_per_m**2)  # slug-ft2\nIzx = 0.0 * kg_per_slug / (ft_per_m**2)  # slug-ft2\nm = 1.0 * kg_per_slug  # slug\n\nx = 0.0\ny = 0.0\nz = 0.0\n\nS_A = 0.1963495 / (ft_per_m**2)\nb_l = 1.0\nc_l = 1.0\na_l = b_l\n\nlat_ic = 0.0 * np.pi / 180\nlong_ic = 0.0 * np.pi / 180\nh_ic = 0.0 / ft_per_m\nV_N_ic = 000.0 / ft_per_m\nV_E_ic = 1000.0 / ft_per_m\nV_D_ic = -1000.0 / ft_per_m\npsi_ic = 90.0 * np.pi / 180\ntheta_ic = 0.0 * np.pi / 180\nphi_ic = 0.0 * np.pi / 180\nomega_X_ic = 0.0 * np.pi / 180\nomega_Y_ic = -0.004178073 * np.pi / 180\nomega_Z_ic = 0.0 * np.pi / 180\n\n\nplanet = simupy_flight.Planet(\n    gravity=simupy_flight.earth_J2_gravity,\n    winds=simupy_flight.get_constant_winds(),\n    atmosphere=simupy_flight.atmosphere_1976,\n    planetodetics=simupy_flight.Planetodetic(\n        a=simupy_flight.earth_equitorial_radius,\n        omega_p=simupy_flight.earth_rotation_rate,\n        f=simupy_flight.earth_f,\n    ),\n)\n\nvehicle = simupy_flight.Vehicle(\n    base_aero_coeffs=simupy_flight.get_constant_aero(CD_b=0.1),\n    m=m,\n    I_xx=Ixx,\n    I_yy=Iyy,\n    I_zz=Izz,\n    I_xy=Ixy,\n    I_yz=Iyz,\n    I_xz=Izx,\n    x_com=x,\n    y_com=y,\n    z_com=z,\n    x_mrc=x,\n    y_mrc=y,\n    z_mrc=z,\n    S_A=S_A,\n    a_l=a_l,\n    b_l=b_l,\n    c_l=c_l,\n    d_l=0.0,\n)\n\nBD = BlockDiagram(planet, vehicle)\nBD.connect(planet, vehicle, inputs=np.arange(planet.dim_output))\nBD.connect(vehicle, planet, inputs=np.arange(vehicle.dim_output))\n\nplanet.initial_condition = planet.ic_from_planetodetic(\n    long_ic, lat_ic, h_ic, V_N_ic, V_E_ic, V_D_ic, psi_ic, theta_ic, phi_ic\n)\nplanet.initial_condition[-3:] = omega_X_ic, omega_Y_ic, omega_Z_ic\n\nwith benchmark() as b:\n    res = BD.simulate(30, integrator_options=int_opts)"
      ]
    },
    {
      "cell_type": "code",
      "execution_count": null,
      "metadata": {
        "collapsed": false
      },
      "outputs": [],
      "source": [
        "plot_nesc_comparisons(res, \"09\")"
      ]
    }
  ],
  "metadata": {
    "kernelspec": {
      "display_name": "Python 3",
      "language": "python",
      "name": "python3"
    },
    "language_info": {
      "codemirror_mode": {
        "name": "ipython",
        "version": 3
      },
      "file_extension": ".py",
      "mimetype": "text/x-python",
      "name": "python",
      "nbconvert_exporter": "python",
      "pygments_lexer": "ipython3",
      "version": "3.8.13"
    }
  },
  "nbformat": 4,
  "nbformat_minor": 0
}