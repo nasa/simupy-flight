{
  "cells": [
    {
      "cell_type": "code",
      "execution_count": null,
      "metadata": {
        "collapsed": false
      },
      "outputs": [],
      "source": [
        "%matplotlib inline"
      ]
    },
    {
      "cell_type": "markdown",
      "metadata": {},
      "source": [
        "\n# Case 15: Circular F-16 flight around North Pole\n\n==============  ===============\nVerifies        Propagation, geodetic transforms\nGravitation     J2\nGeodesy         WGS-84 rotating\nAtmosphere      US 1976 STD\nWinds           still air\nVehicle         F-16 with circumnavigating auto-pilot\nNotes           Initially straight & level and engage auto-pilot\n==============  ===============\n"
      ]
    },
    {
      "cell_type": "code",
      "execution_count": null,
      "metadata": {
        "collapsed": false
      },
      "outputs": [],
      "source": [
        "from simupy import systems\nfrom simupy.block_diagram import BlockDiagram\nimport os\nimport numpy as np\nfrom scipy import interpolate\nimport matplotlib.pyplot as plt\n\nfrom nesc_testcase_helper import (\n    get_baselines,\n    plot_nesc_comparisons,\n    plot_F16_controls,\n    nesc_options,\n    nesc_colors,\n    benchmark,\n)\nfrom nesc_testcase_helper import ft_per_m\n\nfrom nesc_case11 import (\n    int_opts,\n    BD,\n    earth,\n    rho_0,\n    eval_trim,\n    run_trimmer,\n    knots_per_mps,\n)\n\nimport F16_model\nfrom F16_gnc import F16_gnc, trimmedKEAS\n\nF16_vehicle = F16_model.F16()\n\nspec_ic_args = dict(\n    phi_D=89.95 * np.pi / 180,  # latitude\n    lamda_D=-45 * np.pi / 180,  # longitude\n    h=10_000 / ft_per_m,\n    V_N=0.0 / ft_per_m,\n    V_E=563.643 / ft_per_m,\n    V_D=0.0 / ft_per_m,\n    psi=90.0 * np.pi / 180,\n    theta=0.0 * np.pi / 180,\n    phi=0.0 * np.pi / 180,\n    p_B=0.0 * np.pi / 180,\n    q_B=0.0 * np.pi / 180,\n    r_B=0.0 * np.pi / 180,\n)\n\nearth_output_for_gnc_select = np.array(\n    [\n        earth.phi_D_idx,\n        earth.lamda_D_idx,\n        earth.h_D_idx,\n        earth.V_T_idx,\n        earth.alpha_idx,\n        earth.beta_idx,\n        earth.psi_idx,\n        earth.theta_idx,\n        earth.phi_idx,\n        earth.p_B_idx,\n        earth.q_B_idx,\n        earth.r_B_idx,\n        earth.rho_idx,\n    ]\n)\n\n\ndim_feedback = len(earth_output_for_gnc_select)\n\n\ndef get_gnc_function(\n    throttleTrim,\n    longStkTrim,\n    keasCmd=trimmedKEAS,\n    altCmd=spec_ic_args[\"h\"] * ft_per_m,\n    sasOn=True,\n    apOn=True,\n    circlePoleSW=True,\n):\n    def gnc_function(t, u):\n        throttle, longStk, latStk, pedal = 0.0, 0.0, 0.0, 0.0  # pilot command\n\n        (\n            latitude,\n            longitude,\n            alt,\n            V_T,\n            alpha,\n            beta,\n            psi,\n            theta,\n            phi,\n            pb,\n            qb,\n            rb,  # feedback\n            rho,\n        ) = u  # rho to calculate equivalent airspeed\n\n        Vequiv = V_T * np.sqrt(rho / rho_0)\n        angles = np.array([latitude, longitude, alpha, beta, phi, theta, psi])\n        latitude, longitude, alpha, beta, phi, theta, psi = angles * 180 / np.pi\n\n        control_eart = F16_gnc(\n            throttle,\n            longStk,\n            latStk,\n            pedal,\n            sasOn,\n            apOn,\n            circlePoleSW,\n            latitude,\n            longitude,\n            keasCmd,\n            altCmd,\n            alt * ft_per_m,\n            Vequiv * knots_per_mps,\n            alpha,\n            beta,\n            phi,\n            theta,\n            psi,\n            pb,\n            qb,\n            rb,\n            throttleTrim,\n            longStkTrim,\n        )\n        return control_eart\n\n    return gnc_function\n\n\nint_opts[\"nsteps\"] = 100_000"
      ]
    },
    {
      "cell_type": "code",
      "execution_count": null,
      "metadata": {
        "collapsed": false
      },
      "outputs": [],
      "source": [
        "if __name__ == \"__main__\":\n\n    opt_args, opt_ctrl = run_trimmer(\n        spec_ic_args, throttle_ic=0.0, longStk_ic=0.0, allow_roll=False\n    )\n\n    trimmed_flight_condition = earth.ic_from_planetodetic(**opt_args)\n\n    trimmed_KEAS = (\n        earth.output_equation_function(0, trimmed_flight_condition)[earth.V_T_idx]\n        * np.sqrt(\n            earth.output_equation_function(0, trimmed_flight_condition)[earth.rho_idx]\n            / rho_0\n        )\n        * knots_per_mps\n    )\n\n    earth.initial_condition = trimmed_flight_condition\n\n    gnc_block = systems.SystemFromCallable(\n        get_gnc_function(\n            *opt_ctrl,\n            keasCmd=trimmed_KEAS,\n        ),\n        dim_feedback,\n        4,\n    )\n\n    BD = BlockDiagram(earth, F16_vehicle, gnc_block)\n    BD.connect(earth, F16_vehicle, inputs=np.arange(earth.dim_output))\n    BD.connect(F16_vehicle, earth, inputs=np.arange(F16_vehicle.dim_output))\n    BD.connect(\n        gnc_block,\n        F16_vehicle,\n        inputs=np.arange(earth.dim_output, earth.dim_output + 4),\n    )\n    BD.connect(earth, gnc_block, outputs=earth_output_for_gnc_select)\n\n    with benchmark() as b:\n        res = BD.simulate(180, integrator_options=int_opts)\n\n    plot_nesc_comparisons(res, \"15\")\n    plot_F16_controls(res, \"15\", y_idx_offset=0)\n\n    def xy_for_north_pole_ground_track(lat, long):\n        xx = (90 - lat * 180 / np.pi) * np.cos(long)\n        yy = (90 - lat * 180 / np.pi) * np.sin(long)\n        return xx, yy\n\n    plt.subplots(constrained_layout=True)\n    plt.axis(\"equal\")\n\n    sim_lat = res.y[:, earth.phi_D_idx]\n    sim_long = res.y[:, earth.lamda_D_idx]\n\n    # refence_lats = np.array([90.0, 90-0.02, 90-0.04, 90-0.06])*np.pi/180\n    refence_lats = (90 - np.arange(5) / 60) * np.pi / 180\n    reference_longs = np.arange(0, 360, 30) * np.pi / 180\n    ref_steps = 100\n\n    ref_lag_long_list = []\n    for i in range(len(refence_lats)):\n        ref_lag_long_list.append(\n            (refence_lats[i], np.arange(ref_steps + 1) * 2 * np.pi / ref_steps)\n        )\n    for j in range(len(reference_longs)):\n        ref_lag_long_list.append(\n            ((90 - np.arange(5) / 60) * np.pi / 180, reference_longs[j])\n        )\n\n    for lat, long in ref_lag_long_list:\n        plt.plot(*xy_for_north_pole_ground_track(lat, long), \"k--\", alpha=0.25)\n\n    baseline_pds, baseline_pd_labels = get_baselines(\"15\")\n\n    plt.plot(\n        *xy_for_north_pole_ground_track(sim_lat, sim_long),\n        \"k-\",\n        alpha=1.0,\n        label=\"SimuPy\",\n    )\n    plt.plot(\n        *xy_for_north_pole_ground_track(sim_lat[0], sim_long[0]),\n        \"o\",\n        alpha=0.5,\n        markerfacecolor=\"None\",\n        markeredgecolor=\"k\",\n    )\n    plt.plot(\n        *xy_for_north_pole_ground_track(sim_lat[-1], sim_long[-1]),\n        \"x\",\n        alpha=0.5,\n        markerfacecolor=\"None\",\n        markeredgecolor=\"k\",\n    )\n    for baseline_idx, baseline_pd in enumerate(baseline_pds):\n        plt.plot(\n            *xy_for_north_pole_ground_track(\n                *(baseline_pd[[\"latitude_deg\", \"longitude_deg\"]] * np.pi / 180).values.T\n            ),\n            nesc_colors[baseline_pd_labels[baseline_idx]],\n            alpha=0.5,\n            label=\"NESC %s\" % (baseline_pd_labels[baseline_idx]),\n        )\n        plt.plot(\n            *xy_for_north_pole_ground_track(\n                *(\n                    baseline_pd[[\"latitude_deg\", \"longitude_deg\"]].iloc[0] * np.pi / 180\n                ).values.T\n            ),\n            \"o\",\n            alpha=0.5,\n            markerfacecolor=\"None\",\n            markeredgecolor=nesc_colors[baseline_pd_labels[baseline_idx]],\n        )\n        plt.plot(\n            *xy_for_north_pole_ground_track(\n                *(\n                    baseline_pd[[\"latitude_deg\", \"longitude_deg\"]].iloc[-1]\n                    * np.pi\n                    / 180\n                ).values.T\n            ),\n            \"x\",\n            alpha=0.5,\n            markerfacecolor=\"None\",\n            markeredgecolor=nesc_colors[baseline_pd_labels[baseline_idx]],\n        )\n\n    plt.legend()\n\n    if nesc_options[\"interactive_mode\"]:\n        plt.show()\n    else:\n        plt.savefig(\n            os.path.join(nesc_options[\"save_relative_path\"], \"15_groundtrack.pdf\")\n        )"
      ]
    }
  ],
  "metadata": {
    "kernelspec": {
      "display_name": "Python 3",
      "language": "python",
      "name": "python3"
    },
    "language_info": {
      "codemirror_mode": {
        "name": "ipython",
        "version": 3
      },
      "file_extension": ".py",
      "mimetype": "text/x-python",
      "name": "python",
      "nbconvert_exporter": "python",
      "pygments_lexer": "ipython3",
      "version": "3.8.13"
    }
  },
  "nbformat": 4,
  "nbformat_minor": 0
}