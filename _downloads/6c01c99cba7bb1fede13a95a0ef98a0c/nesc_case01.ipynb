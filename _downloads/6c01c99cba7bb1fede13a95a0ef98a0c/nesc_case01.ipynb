{
  "cells": [
    {
      "cell_type": "code",
      "execution_count": null,
      "metadata": {
        "collapsed": false
      },
      "outputs": [],
      "source": [
        "%matplotlib inline"
      ]
    },
    {
      "cell_type": "markdown",
      "metadata": {},
      "source": [
        "\n# Case 1: Dropped sphere with no drag\n\n==============  ===============\nVerifies        Gravitation, translational EOM\nGravitation     J2\nGeodesy         WGS-84 rotating\nAtmosphere      US 1976 STD\nWinds           still air\nVehicle         Dragless sphere\nNotes           Drag coefficient set to zero\n==============  ===============\n"
      ]
    },
    {
      "cell_type": "code",
      "execution_count": null,
      "metadata": {
        "collapsed": false
      },
      "outputs": [],
      "source": [
        "from simupy.block_diagram import BlockDiagram\nimport simupy_flight\nimport numpy as np\n\nfrom nesc_testcase_helper import plot_nesc_comparisons, int_opts, benchmark\nfrom nesc_testcase_helper import ft_per_m"
      ]
    },
    {
      "cell_type": "markdown",
      "metadata": {},
      "source": [
        "Construct the Planet model according to the\nconfiguration listed above\n\n"
      ]
    },
    {
      "cell_type": "code",
      "execution_count": null,
      "metadata": {
        "collapsed": false
      },
      "outputs": [],
      "source": [
        "planet = simupy_flight.Planet(\n    gravity=simupy_flight.earth_J2_gravity,\n    winds=simupy_flight.get_constant_winds(),\n    atmosphere=simupy_flight.get_constant_atmosphere(),\n    planetodetics=simupy_flight.Planetodetic(\n        a=simupy_flight.earth_equitorial_radius,\n        omega_p=simupy_flight.earth_rotation_rate,\n        f=simupy_flight.earth_f,\n    ),\n)"
      ]
    },
    {
      "cell_type": "markdown",
      "metadata": {},
      "source": [
        "Since there is no dynamics model (aerodynamic drag is set to zero)\nthere is no need to define a Vehicle model. So we construct the\nBlockDiagram with just the planet object\n\n"
      ]
    },
    {
      "cell_type": "code",
      "execution_count": null,
      "metadata": {
        "collapsed": false
      },
      "outputs": [],
      "source": [
        "BD = BlockDiagram(planet)"
      ]
    },
    {
      "cell_type": "markdown",
      "metadata": {},
      "source": [
        "List the planetodetic initial conditions and use the\n`ic_from_planetodetic` method to transform it to the inertial\ncoordinate system needed for the initial condition\n\n"
      ]
    },
    {
      "cell_type": "code",
      "execution_count": null,
      "metadata": {
        "collapsed": false
      },
      "outputs": [],
      "source": [
        "lat_ic = 0.0 * np.pi / 180\nlong_ic = 0.0 * np.pi / 180\nh_ic = 30_000 / ft_per_m\nV_N_ic = 0.0\nV_E_ic = 0.0\nV_D_ic = 0.0\npsi_ic = 0.0 * np.pi / 180\ntheta_ic = 0.0 * np.pi / 180\nphi_ic = 0.0 * np.pi / 180\nomega_X_ic = 0.0\nomega_Y_ic = 0.0\nomega_Z_ic = 0.0\n\nplanet.initial_condition = planet.ic_from_planetodetic(\n    long_ic, lat_ic, h_ic, V_N_ic, V_E_ic, V_D_ic, psi_ic, theta_ic, phi_ic\n)\nplanet.initial_condition[-3:] = omega_X_ic, omega_Y_ic, omega_Z_ic"
      ]
    },
    {
      "cell_type": "markdown",
      "metadata": {},
      "source": [
        "Simulate and assess the results\n\n"
      ]
    },
    {
      "cell_type": "code",
      "execution_count": null,
      "metadata": {
        "collapsed": false
      },
      "outputs": [],
      "source": [
        "with benchmark() as b:\n    res = BD.simulate(30, integrator_options=int_opts)\n\nplot_nesc_comparisons(res, \"01\")"
      ]
    }
  ],
  "metadata": {
    "kernelspec": {
      "display_name": "Python 3",
      "language": "python",
      "name": "python3"
    },
    "language_info": {
      "codemirror_mode": {
        "name": "ipython",
        "version": 3
      },
      "file_extension": ".py",
      "mimetype": "text/x-python",
      "name": "python",
      "nbconvert_exporter": "python",
      "pygments_lexer": "ipython3",
      "version": "3.8.10"
    }
  },
  "nbformat": 4,
  "nbformat_minor": 0
}