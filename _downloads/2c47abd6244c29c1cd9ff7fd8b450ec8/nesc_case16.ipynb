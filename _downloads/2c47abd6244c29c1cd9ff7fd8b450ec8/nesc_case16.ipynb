{
  "cells": [
    {
      "cell_type": "code",
      "execution_count": null,
      "metadata": {
        "collapsed": false
      },
      "outputs": [],
      "source": [
        "%matplotlib inline"
      ]
    },
    {
      "cell_type": "markdown",
      "metadata": {},
      "source": [
        "\n# Case 16: Circular F-15 flight around Equator/dateline intersection\n\n==============  ===============\nVerifies        Sign changs in latitude and longitude\nGravitation     J2\nGeodesy         WGS-84 rotating\nAtmosphere      US 1976 STD\nWinds           still air\nVehicle         F-16 with circumnavigating auto-pilot\nNotes           Initially straight & level and engage auto-pilot\n==============  ===============\n"
      ]
    },
    {
      "cell_type": "code",
      "execution_count": null,
      "metadata": {
        "collapsed": false
      },
      "outputs": [],
      "source": [
        "from simupy import systems\nfrom simupy.block_diagram import BlockDiagram\nimport os\nimport numpy as np\nfrom scipy import interpolate\nimport matplotlib.pyplot as plt\n\nfrom nesc_testcase_helper import (\n    get_baselines,\n    nesc_options,\n    plot_nesc_comparisons,\n    plot_F16_controls,\n    nesc_colors,\n    benchmark,\n)\nfrom nesc_testcase_helper import ft_per_m\n\nimport F16_model\nfrom F16_gnc import F16_gnc, trimmedKEAS\n\nF16_vehicle = F16_model.F16()\n\nfrom nesc_case11 import (\n    BD,\n    earth,\n    rho_0,\n    eval_trim,\n    run_trimmer,\n    knots_per_mps,\n)\nfrom nesc_case15 import (\n    earth_output_for_gnc_select,\n    dim_feedback,\n    get_gnc_function,\n    int_opts,\n)\n\nspec_ic_args = dict(\n    phi_D=0.0 * np.pi / 180,  # latitude\n    lamda_D=-179.95 * np.pi / 180,  # longitude\n    h=10_000 / ft_per_m,\n    V_N=563.643 / ft_per_m,\n    V_E=0.0 / ft_per_m,\n    V_D=0.0 / ft_per_m,\n    psi=0.0 * np.pi / 180,\n    theta=0.0 * np.pi / 180,\n    phi=0.0 * np.pi / 180,\n    p_B=0.0 * np.pi / 180,\n    q_B=0.0 * np.pi / 180,\n    r_B=0.0 * np.pi / 180,\n)\n\nopt_args, opt_ctrl = run_trimmer(\n    spec_ic_args, throttle_ic=0.0, longStk_ic=0.0, allow_roll=False\n)\n\ntrimmed_flight_condition = earth.ic_from_planetodetic(**opt_args)\n\ntrimmed_KEAS = (\n    earth.output_equation_function(0, trimmed_flight_condition)[earth.V_T_idx]\n    * np.sqrt(\n        earth.output_equation_function(0, trimmed_flight_condition)[earth.rho_idx]\n        / rho_0\n    )\n    * knots_per_mps\n)\n\n\nearth.initial_condition = trimmed_flight_condition\n\ngnc_block = systems.SystemFromCallable(\n    get_gnc_function(*opt_ctrl, keasCmd=trimmed_KEAS, circlePoleSW=False),\n    dim_feedback,\n    4,\n)\n\nBD = BlockDiagram(earth, F16_vehicle, gnc_block)\nBD.connect(earth, F16_vehicle, inputs=np.arange(earth.dim_output))\nBD.connect(F16_vehicle, earth, inputs=np.arange(F16_vehicle.dim_output))\nBD.connect(\n    gnc_block, F16_vehicle, inputs=np.arange(earth.dim_output, earth.dim_output + 4)\n)\nBD.connect(earth, gnc_block, outputs=earth_output_for_gnc_select)\n\nwith benchmark() as b:\n    res = BD.simulate(180, integrator_options=int_opts)\n\nplot_nesc_comparisons(res, \"16\")\nplot_F16_controls(res, \"16\", y_idx_offset=0)"
      ]
    },
    {
      "cell_type": "code",
      "execution_count": null,
      "metadata": {
        "collapsed": false
      },
      "outputs": [],
      "source": [
        "plt.subplots(constrained_layout=True)\nplt.axis(\"equal\")\n\nsim_lat = res.y[:, earth.phi_D_idx] * 180 / np.pi\nsim_long = res.y[:, earth.lamda_D_idx] * 180 / np.pi\n\nbaseline_pds, baseline_pd_labels = get_baselines(\"16\")\n\nfor baseline_idx, baseline_pd in enumerate(baseline_pds):\n    baseline_long = (\n        np.unwrap(2 * baseline_pd[\"longitude_deg\"] * np.pi / 180) * 90 / np.pi\n    )\n    baseline_lat = baseline_pd[\"latitude_deg\"].values\n    plt.plot(\n        baseline_long,\n        baseline_lat,\n        nesc_colors[baseline_pd_labels[baseline_idx]],\n        alpha=0.5,\n        label=\"NESC %s\" % (baseline_pd_labels[baseline_idx]),\n    )\n    plt.plot(\n        baseline_long[0],\n        baseline_lat[0],\n        \"o\",\n        alpha=0.5,\n        markerfacecolor=\"None\",\n        markeredgecolor=nesc_colors[baseline_pd_labels[baseline_idx]],\n    )\n    plt.plot(\n        baseline_long[-1],\n        baseline_lat[-1],\n        \"x\",\n        alpha=0.5,\n        markerfacecolor=\"None\",\n        markeredgecolor=nesc_colors[baseline_pd_labels[baseline_idx]],\n    )\n\nplt.plot(sim_long, sim_lat, \"k-\", alpha=1.0)\nplt.plot(\n    sim_long[0], sim_lat[0], \"o\", alpha=0.5, markerfacecolor=\"None\", markeredgecolor=\"k\"\n)\nplt.plot(\n    sim_long[-1],\n    sim_lat[-1],\n    \"x\",\n    alpha=0.5,\n    markerfacecolor=\"None\",\n    markeredgecolor=\"k\",\n)\n\nplt.xlabel(\"longitude, deg\")\nplt.ylabel(\"latitude, deg\")\nplt.grid(True)\n\nif nesc_options[\"interactive_mode\"]:\n    plt.show()\nelse:\n    plt.savefig(os.path.join(nesc_options[\"save_relative_path\"], \"16_groundtrack.pdf\"))"
      ]
    }
  ],
  "metadata": {
    "kernelspec": {
      "display_name": "Python 3",
      "language": "python",
      "name": "python3"
    },
    "language_info": {
      "codemirror_mode": {
        "name": "ipython",
        "version": 3
      },
      "file_extension": ".py",
      "mimetype": "text/x-python",
      "name": "python",
      "nbconvert_exporter": "python",
      "pygments_lexer": "ipython3",
      "version": "3.8.10"
    }
  },
  "nbformat": 4,
  "nbformat_minor": 0
}