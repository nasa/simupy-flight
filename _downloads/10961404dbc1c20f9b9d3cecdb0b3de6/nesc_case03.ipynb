{
  "cells": [
    {
      "cell_type": "code",
      "execution_count": null,
      "metadata": {
        "collapsed": false
      },
      "outputs": [],
      "source": [
        "%matplotlib inline"
      ]
    },
    {
      "cell_type": "markdown",
      "metadata": {},
      "source": [
        "\n# Case 3: Tumbling brick with dynamic damping, no drag\n\n==============  ===============\nVerifies        Inertial coupling [dynamic damping model]\nGravitation     J2\nGeodesy         WGS-84 rotating\nAtmosphere      US 1976 STD\nWinds           still air\nVehicle         Dragless rotating brick with aero damping\nNotes           Drag coefficient set to zero\n==============  ===============\n"
      ]
    },
    {
      "cell_type": "code",
      "execution_count": null,
      "metadata": {
        "collapsed": false
      },
      "outputs": [],
      "source": [
        "from simupy.block_diagram import BlockDiagram\nimport simupy_flight\nimport numpy as np\n\nfrom nesc_testcase_helper import plot_nesc_comparisons, int_opts, benchmark\nfrom nesc_testcase_helper import ft_per_m, kg_per_slug\n\nplanet = simupy_flight.Planet(\n    gravity=simupy_flight.earth_J2_gravity,\n    winds=simupy_flight.get_constant_winds(),\n    atmosphere=simupy_flight.atmosphere_1976,\n    planetodetics=simupy_flight.Planetodetic(\n        a=simupy_flight.earth_equitorial_radius,\n        omega_p=simupy_flight.earth_rotation_rate,\n        f=simupy_flight.earth_f,\n    ),\n)\n\nIxx = 0.001894220 * kg_per_slug / (ft_per_m**2)  # slug-ft2\nIyy = 0.006211019 * kg_per_slug / (ft_per_m**2)  # slug-ft2\nIzz = 0.007194665 * kg_per_slug / (ft_per_m**2)  # slug-ft2\nIxy = 0.0 * kg_per_slug / (ft_per_m**2)  # slug-ft2\nIyz = 0.0 * kg_per_slug / (ft_per_m**2)  # slug-ft2\nIzx = 0.0 * kg_per_slug / (ft_per_m**2)  # slug-ft2\nm = 0.155404754 * kg_per_slug  # slug\n\nx = 0.0\ny = 0.0\nz = 0.0"
      ]
    },
    {
      "cell_type": "markdown",
      "metadata": {},
      "source": [
        "Configure the constant dynamic damping\n\n"
      ]
    },
    {
      "cell_type": "code",
      "execution_count": null,
      "metadata": {
        "collapsed": false
      },
      "outputs": [],
      "source": [
        "S_A = 0.22222 / (ft_per_m**2)\nb_l = 1 / (3 * ft_per_m)\nc_l = 2 / (3 * ft_per_m)\na_l = b_l\naero_model = simupy_flight.get_constant_aero(Cp_b=-1.0, Cq_b=-1.0, Cr_b=-1.0)\nvehicle = simupy_flight.Vehicle(\n    base_aero_coeffs=aero_model,\n    m=m,\n    I_xx=Ixx,\n    I_yy=Iyy,\n    I_zz=Izz,\n    I_xy=Ixy,\n    I_yz=Iyz,\n    I_xz=Izx,\n    x_com=x,\n    y_com=y,\n    z_com=z,\n    x_mrc=x,\n    y_mrc=y,\n    z_mrc=z,\n    S_A=S_A,\n    a_l=a_l,\n    b_l=b_l,\n    c_l=c_l,\n    d_l=0.0,\n)\n\nBD = BlockDiagram(planet, vehicle)\nBD.connect(planet, vehicle, inputs=np.arange(planet.dim_output))\nBD.connect(vehicle, planet, inputs=np.arange(vehicle.dim_output))\n\nlat_ic = 0.0 * np.pi / 180\nlong_ic = 0.0 * np.pi / 180\nh_ic = 30_000 / ft_per_m\nV_N_ic = 0.0\nV_E_ic = 0.0\nV_D_ic = 0.0\npsi_ic = 0.0 * np.pi / 180\ntheta_ic = 0.0 * np.pi / 180\nphi_ic = 0.0 * np.pi / 180\nomega_X_ic = 10.0 * np.pi / 180\nomega_Y_ic = 20.0 * np.pi / 180\nomega_Z_ic = 30.0 * np.pi / 180\n\nplanet.initial_condition = planet.ic_from_planetodetic(\n    long_ic, lat_ic, h_ic, V_N_ic, V_E_ic, V_D_ic, psi_ic, theta_ic, phi_ic\n)\nplanet.initial_condition[-3:] = omega_X_ic, omega_Y_ic, omega_Z_ic\n\nwith benchmark() as b:\n    res = BD.simulate(30, integrator_options=int_opts)\n\nplot_nesc_comparisons(res, \"03\")"
      ]
    }
  ],
  "metadata": {
    "kernelspec": {
      "display_name": "Python 3",
      "language": "python",
      "name": "python3"
    },
    "language_info": {
      "codemirror_mode": {
        "name": "ipython",
        "version": 3
      },
      "file_extension": ".py",
      "mimetype": "text/x-python",
      "name": "python",
      "nbconvert_exporter": "python",
      "pygments_lexer": "ipython3",
      "version": "3.8.12"
    }
  },
  "nbformat": 4,
  "nbformat_minor": 0
}