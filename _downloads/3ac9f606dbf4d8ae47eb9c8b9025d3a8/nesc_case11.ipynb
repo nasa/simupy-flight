{
  "cells": [
    {
      "cell_type": "code",
      "execution_count": null,
      "metadata": {
        "collapsed": false
      },
      "outputs": [],
      "source": [
        "%matplotlib inline"
      ]
    },
    {
      "cell_type": "markdown",
      "metadata": {},
      "source": [
        "\n# Case 11: Subsonic F-16 trimmed flight across earth\n\n==============  ===============\nVerifies        Atmosphere, air-data calculations\nGravitation     J2\nGeodesy         WGS-84 rotating\nAtmosphere      US 1976 STD\nWinds           still air\nVehicle         F-16 (unaugmented)\nNotes           Initial position is 10,000 ft above KFFA airport on a 45 degree true\n                course. 335.15 KTAS. Stability augmentation off. Test of trim solution.\n==============  ===============\n\nIn this example, we first find the trim conditions for the F16 in sub-sonic flight, then\nperform a steady level sight. To find trim, we use scipy's optimize module to minimize a\ntrim residual.\n"
      ]
    },
    {
      "cell_type": "code",
      "execution_count": null,
      "metadata": {
        "collapsed": false
      },
      "outputs": [],
      "source": [
        "from simupy.block_diagram import BlockDiagram\nfrom simupy import systems\nimport simupy_flight\nimport numpy as np\nfrom scipy import optimize\n\nfrom nesc_testcase_helper import plot_nesc_comparisons, int_opts, benchmark\nfrom nesc_testcase_helper import ft_per_m, kg_per_slug"
      ]
    },
    {
      "cell_type": "markdown",
      "metadata": {},
      "source": [
        "The F16_model.F16 class composes the aerodynamic, propulsion, and inertia  models\ninto a simupy_flight Vehicle\n\n"
      ]
    },
    {
      "cell_type": "code",
      "execution_count": null,
      "metadata": {
        "collapsed": false
      },
      "outputs": [],
      "source": [
        "import F16_model\nfrom F16_control import F16_control\n\nF16_vehicle = F16_model.F16()"
      ]
    },
    {
      "cell_type": "markdown",
      "metadata": {},
      "source": [
        "Create a dictionary of keyword arguments for the initial condition\n\n"
      ]
    },
    {
      "cell_type": "code",
      "execution_count": null,
      "metadata": {
        "collapsed": false
      },
      "outputs": [],
      "source": [
        "spec_ic_args = dict(\n    phi_D=36.01916667 * np.pi / 180,  # latitude\n    lamda_D=-75.67444444 * np.pi / 180,  # longitude\n    h=10_013 / ft_per_m,\n    V_N=400.0 / ft_per_m,\n    V_E=400.0 / ft_per_m,\n    V_D=0.0 / ft_per_m,\n    psi=45.0 * np.pi / 180,\n    theta=2.653814 * np.pi / 180,\n    phi=0.0 * np.pi / 180,\n    p_B=0.0 * np.pi / 180,\n    q_B=0.0 * np.pi / 180,\n    r_B=0.0 * np.pi / 180,\n)\n\nknots_per_mps = 1.94384"
      ]
    },
    {
      "cell_type": "markdown",
      "metadata": {},
      "source": [
        "Configure the earth model\n\n"
      ]
    },
    {
      "cell_type": "code",
      "execution_count": null,
      "metadata": {
        "collapsed": false
      },
      "outputs": [],
      "source": [
        "earth = simupy_flight.Planet(\n    gravity=simupy_flight.earth_J2_gravity,\n    winds=simupy_flight.get_constant_winds(),\n    atmosphere=simupy_flight.atmosphere_1976,\n    planetodetics=simupy_flight.Planetodetic(\n        a=simupy_flight.earth_equitorial_radius,\n        omega_p=simupy_flight.earth_rotation_rate,\n        f=simupy_flight.earth_f,\n    ),\n)"
      ]
    },
    {
      "cell_type": "markdown",
      "metadata": {},
      "source": [
        "Air density at the surface is used for the equivalent air-speed calculation\n\n"
      ]
    },
    {
      "cell_type": "code",
      "execution_count": null,
      "metadata": {
        "collapsed": false
      },
      "outputs": [],
      "source": [
        "rho_0 = earth.atmosphere(0, 0, 0, 0)[0]"
      ]
    },
    {
      "cell_type": "markdown",
      "metadata": {},
      "source": [
        "Select the feedback channels used for the controller\n\n"
      ]
    },
    {
      "cell_type": "code",
      "execution_count": null,
      "metadata": {
        "collapsed": false
      },
      "outputs": [],
      "source": [
        "controller_feedback_indices = np.array(\n    [\n        earth.h_D_idx,\n        earth.V_T_idx,\n        earth.alpha_idx,\n        earth.beta_idx,\n        earth.psi_idx,\n        earth.theta_idx,\n        earth.phi_idx,\n        earth.p_B_idx,\n        earth.q_B_idx,\n        earth.r_B_idx,\n        earth.rho_idx,\n    ]\n)\n\ndim_feedback = len(controller_feedback_indices)"
      ]
    },
    {
      "cell_type": "markdown",
      "metadata": {},
      "source": [
        "This is a function generator for the controller (auto-pilot). The generated function\nuses the DaveML implementation of the controller, which has several configuration\noptions set by the generator.\n\n"
      ]
    },
    {
      "cell_type": "code",
      "execution_count": null,
      "metadata": {
        "collapsed": false
      },
      "outputs": [],
      "source": [
        "class F16ControllerBlock:\n    num_events = 1\n    dim_state = 0\n    dim_output = 4\n    dim_input = 15\n\n    initial_condition = np.array([])\n\n    def __init__(self, throttleTrim, longStkTrim, sasOn=False, apOn=False, event_t=0.):\n        self.throttleTrim = throttleTrim\n        self.longStkTrim = longStkTrim\n        self.sasOn = sasOn\n        self.apOn = apOn\n        self.event_t = event_t\n\n    def update_equation_function(self, t, u, event_channels):\n        return self.__call__(t, u)\n\n    def prepare_to_integrate(self, t, u):\n        return self.__call__(t, u)\n\n    def event_equation_function(self, t, u):\n        return np.array([t - self.event_t])\n\n    def output_equation_function(self, t, u):\n        return self.__call__(t, u)\n\n    def __call__(self, t, u):\n        throttle, longStk, latStk, pedal = 0.0, 0.0, 0.0, 0.0  # pilot command\n\n        (\n            # feedback\n            alt,\n            V_T,\n            alpha,\n            beta,\n            psi,\n            theta,\n            phi,\n            pb,\n            qb,\n            rb,\n            # rho to calculate equivalent airspeed\n            rho,\n            # commands\n            keasCmd,\n            altCmd,\n            latOffset,\n            baseChiCmd,\n        ) = u\n\n        Vequiv = V_T * np.sqrt(rho / rho_0)\n        angles = np.array([alpha, beta, phi, theta, psi])\n        alpha, beta, phi, theta, psi = angles * 180 / np.pi\n\n        control_eart = F16_control(\n            throttle,\n            longStk,\n            latStk,\n            pedal,\n            self.sasOn,\n            self.apOn,\n            keasCmd,\n            altCmd,\n            latOffset,\n            baseChiCmd,\n            alt * ft_per_m,\n            Vequiv * knots_per_mps,\n            alpha,\n            beta,\n            phi,\n            theta,\n            psi,\n            pb,\n            qb,\n            rb,\n            self.throttleTrim,\n            self.longStkTrim,\n        )\n        return control_eart"
      ]
    },
    {
      "cell_type": "markdown",
      "metadata": {},
      "source": [
        "This function computes the trim residual using the\n``local_translational_trim_residual`` helper function, which calculates the\naccelerations experienced by the vehicle for a given flight condition, longitudinal\nstick position, and throttle value.\n\n"
      ]
    },
    {
      "cell_type": "code",
      "execution_count": null,
      "metadata": {
        "collapsed": false
      },
      "outputs": [],
      "source": [
        "def eval_trim(flight_condition, longStk, throttle):\n    kin_out = earth.output_equation_function(0, flight_condition)\n    controller_func = F16ControllerBlock(\n        throttleTrim=throttle, longStkTrim=longStk\n    )\n    aero_plus_prop_acceleration = simupy_flight.dynamics.dynamics_output_function(\n        F16_vehicle, 0, *kin_out, *controller_func(0, np.zeros(dim_feedback + 4))\n    )\n\n    gen_accel = aero_plus_prop_acceleration\n\n    gen_accel[:3] = earth.local_translational_trim_residual(\n        *flight_condition[:-3], *aero_plus_prop_acceleration[:-3]\n    ).squeeze()\n\n    return gen_accel"
      ]
    },
    {
      "cell_type": "markdown",
      "metadata": {},
      "source": [
        "This function uses optimize.minimize() to minimize the trim redisual. It uses the\nthrottle, longitudinal stick position, pitch angle, and optionally the roll\nangle, as free variables to achieve trim. The euler angles are passed through the\nflight condition variable.\n\n"
      ]
    },
    {
      "cell_type": "code",
      "execution_count": null,
      "metadata": {
        "collapsed": false
      },
      "outputs": [],
      "source": [
        "def run_trimmer(flight_ic_args, throttle_ic=0.0, longStk_ic=0.0, allow_roll=False):\n    len_vars = 3 + allow_roll\n\n    psi, theta_ic, phi_ic = (\n        flight_ic_args[\"psi\"],\n        flight_ic_args[\"theta\"],\n        flight_ic_args[\"phi\"],\n    )\n\n    initial_guess = np.zeros(len_vars)\n    initial_guess[0] = theta_ic\n    initial_guess[1] = throttle_ic\n    initial_guess[2] = longStk_ic\n\n    extra_index = 3\n\n    if allow_roll:\n        initial_guess[extra_index] = phi_ic\n        extra_index += 1\n\n    def parse_x(x):\n        theta, throttle, longStk = x[:3]\n        extra_index = 3\n\n        if allow_roll:\n            phi = x[extra_index]\n            extra_index += 1\n        else:\n            phi = phi_ic\n\n        return theta, phi, longStk, throttle\n\n    weighting_matrix = np.eye(6)\n\n    aileron, rudder = 0.0, 0.0\n\n    def trim_opt_func(x):\n        eval_args = flight_ic_args.copy()\n        theta, phi, longStk, throttle = parse_x(x)\n        eval_args[\"theta\"] = theta\n        eval_args[\"phi\"] = phi\n        flight_condition = earth.ic_from_planetodetic(**eval_args)\n        return np.linalg.norm(\n            weighting_matrix @ eval_trim(flight_condition, longStk, throttle), ord=2\n        )\n\n    opt_res = optimize.minimize(\n        trim_opt_func,\n        initial_guess,\n        tol=1e-12,\n        options={\n            \"disp\": True,\n            \"adaptive\": True,\n            \"fatol\": 1e-12,\n            \"maxiter\": 20_000,\n            \"xatol\": 1e-12,\n        },\n        method=\"Nelder-Mead\",\n    )\n\n    opt_theta, opt_phi, opt_longStk, opt_throttle = opt_result = parse_x(opt_res.x)\n    opt_args = flight_ic_args.copy()\n    opt_args[\"theta\"] = opt_theta\n    opt_args[\"phi\"] = opt_phi\n    opt_flight_condition = earth.ic_from_planetodetic(**opt_args)\n    print(\n        \"pitch: %.4e  roll: %.4e  longStk: %.4f  throttle: %.4f\"\n        % (\n            opt_theta * 180 / np.pi,\n            opt_phi * 180 / np.pi,\n            opt_longStk * 100,\n            opt_throttle * 100,\n        )\n    )\n    print(\n        \"accelerations:\\n\",\n        eval_trim(opt_flight_condition, opt_longStk, opt_throttle).reshape((2, 3)),\n    )\n    return opt_args, np.array([opt_throttle, opt_longStk])"
      ]
    },
    {
      "cell_type": "markdown",
      "metadata": {},
      "source": [
        "Run the trimmer to determine the initial condition for the simulation\n\n"
      ]
    },
    {
      "cell_type": "code",
      "execution_count": null,
      "metadata": {
        "collapsed": false
      },
      "outputs": [],
      "source": [
        "opt_args, opt_ctrl = run_trimmer(\n    spec_ic_args, throttle_ic=0.0, longStk_ic=0.0, allow_roll=False\n)\n\ntrimmed_flight_condition = earth.ic_from_planetodetic(**opt_args)\n\ntrimmed_KEAS = (\n    earth.output_equation_function(0, trimmed_flight_condition)[earth.V_T_idx]\n    * np.sqrt(\n        earth.output_equation_function(0, trimmed_flight_condition)[earth.rho_idx]\n        / rho_0\n    )\n    * knots_per_mps\n)\n\nearth.initial_condition = trimmed_flight_condition"
      ]
    },
    {
      "cell_type": "markdown",
      "metadata": {},
      "source": [
        "Configure the controller using the trim settings. This requires additional blocks to\ngenerate command signals at the trimmed value\n\n"
      ]
    },
    {
      "cell_type": "code",
      "execution_count": null,
      "metadata": {
        "collapsed": false
      },
      "outputs": [],
      "source": [
        "controller_block = F16ControllerBlock(*opt_ctrl)\n\nkeasCmdOutput = np.array([trimmed_KEAS])\nkeasCmdBlock = systems.SystemFromCallable(lambda *args: keasCmdOutput, 0, 1)\n\naltCmdOutput = np.array([spec_ic_args[\"h\"] * ft_per_m])\naltCmdBlock = systems.SystemFromCallable(lambda *args: altCmdOutput, 0, 1)\n\nbaseChiCmdOutput = np.array([spec_ic_args[\"psi\"] * 180 / np.pi])\nbaseChiCmdBlock = systems.SystemFromCallable(lambda *args: baseChiCmdOutput, 0, 1)"
      ]
    },
    {
      "cell_type": "markdown",
      "metadata": {},
      "source": [
        "This block  computes the rate of lateral offset error, which is integrated and used\nby the auto-pilot to compute the heading to drive the offset to zero.\n\n"
      ]
    },
    {
      "cell_type": "code",
      "execution_count": null,
      "metadata": {
        "collapsed": false
      },
      "outputs": [],
      "source": [
        "def latOffsetStateEquation(t, x, u):\n    chi_cmd, V_N, V_E = u\n    V_ground_magnitude = np.sqrt(V_N**2 + V_E**2)\n    V_ground_heading = np.arctan2(V_E, V_N)\n    return V_ground_magnitude * np.sin(V_ground_heading - chi_cmd * np.pi / 180)\n\n\ndef latOffsetOutputEquation(t, x):\n    return x * ft_per_m\n\n\nlatOffsetBlock = systems.DynamicalSystem(\n    state_equation_function=latOffsetStateEquation,\n    output_equation_function=latOffsetOutputEquation,\n    dim_state=1,\n    dim_input=3,\n    dim_output=1,\n)"
      ]
    },
    {
      "cell_type": "markdown",
      "metadata": {},
      "source": [
        "Build a block diagram of the planet kinematics block, the F16 vehicle block, the base\ncontroller block, and the various command generating blocks and connect them\nappropriately.\n\n"
      ]
    },
    {
      "cell_type": "code",
      "execution_count": null,
      "metadata": {
        "collapsed": false
      },
      "outputs": [],
      "source": [
        "BD = BlockDiagram(\n    earth,\n    F16_vehicle,\n    controller_block,\n    keasCmdBlock,\n    altCmdBlock,\n    latOffsetBlock,\n    baseChiCmdBlock,\n)\nBD.connect(earth, F16_vehicle, inputs=np.arange(earth.dim_output))\nBD.connect(F16_vehicle, earth, inputs=np.arange(F16_vehicle.dim_output))\nBD.connect(\n    controller_block,\n    F16_vehicle,\n    inputs=np.arange(earth.dim_output, earth.dim_output + 4),\n)\nBD.connect(\n    earth,\n    controller_block,\n    outputs=controller_feedback_indices,\n    inputs=np.arange(dim_feedback),\n)\n\nBD.connect(keasCmdBlock, controller_block, inputs=[dim_feedback + 0])\nBD.connect(altCmdBlock, controller_block, inputs=[dim_feedback + 1])\nBD.connect(latOffsetBlock, controller_block, inputs=[dim_feedback + 2])\nBD.connect(baseChiCmdBlock, controller_block, inputs=[dim_feedback + 3])"
      ]
    },
    {
      "cell_type": "markdown",
      "metadata": {},
      "source": [
        "Simulate and assess the results\n\n"
      ]
    },
    {
      "cell_type": "code",
      "execution_count": null,
      "metadata": {
        "collapsed": false
      },
      "outputs": [],
      "source": [
        "int_opts[\"nsteps\"] = 5_000\nif __name__ == \"__main__\":\n\n    with benchmark() as b:\n        res = BD.simulate(180, integrator_options=int_opts)\n\n    plot_nesc_comparisons(res, \"11\")"
      ]
    }
  ],
  "metadata": {
    "kernelspec": {
      "display_name": "Python 3",
      "language": "python",
      "name": "python3"
    },
    "language_info": {
      "codemirror_mode": {
        "name": "ipython",
        "version": 3
      },
      "file_extension": ".py",
      "mimetype": "text/x-python",
      "name": "python",
      "nbconvert_exporter": "python",
      "pygments_lexer": "ipython3",
      "version": "3.8.10"
    }
  },
  "nbformat": 4,
  "nbformat_minor": 0
}