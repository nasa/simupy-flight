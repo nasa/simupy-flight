{
  "cells": [
    {
      "cell_type": "code",
      "execution_count": null,
      "metadata": {
        "collapsed": false
      },
      "outputs": [],
      "source": [
        "%matplotlib inline"
      ]
    },
    {
      "cell_type": "markdown",
      "metadata": {},
      "source": [
        "\n# Case 13.4: Lateral offset manuever of a subsonic aircraft\n\n==============  ===============\nVerifies        Multidimensional table look-up\nGravitation     J2\nGeodesy         WGS-84 rotating\nAtmosphere      US 1976 STD\nWinds           still air\nVehicle         F-16 with simple auto-pilot\nNotes           Initially straight & level. t=20s, 2000-ft lateral course offset.\n==============  ===============\n\nFor the manuevering examples, the BlockDiagram from case 11 is modified to replace the\ncontroller with the auto-pilot configuration and generate the appropriate command\nsignals.\n"
      ]
    },
    {
      "cell_type": "code",
      "execution_count": null,
      "metadata": {
        "collapsed": false
      },
      "outputs": [],
      "source": [
        "from simupy import systems\nimport numpy as np\nfrom scipy import interpolate\n\nfrom nesc_testcase_helper import plot_nesc_comparisons, plot_F16_controls, benchmark\nfrom nesc_case11 import (\n    int_opts,\n    F16ControllerBlock,\n    BD,\n    spec_ic_args,\n    opt_ctrl,\n    dim_feedback,\n    earth,\n    baseChiCmdBlock,\n    latOffsetStateEquation,\n    latOffsetOutputEquation,\n)\n\n\ndef latOffsetOutputEquationShift(t, x):\n    latOffset = latOffsetOutputEquation(t, x)\n    if t < 20:\n        return latOffset\n    else:\n        return latOffset - 2000\n\n\nlatOffsetBlock = systems.DynamicalSystem(\n    state_equation_function=latOffsetStateEquation,\n    output_equation_function=latOffsetOutputEquationShift,\n    dim_state=1,\n    dim_input=3,\n    dim_output=1,\n)\n\nBD.systems[-2] = latOffsetBlock\nBD.systems[2] = F16ControllerBlock(*opt_ctrl, sasOn=True, apOn=True, event_t=20.)\nBD.connect(baseChiCmdBlock, latOffsetBlock, inputs=[0])\nBD.connect(\n    earth, latOffsetBlock, outputs=[earth.V_N_idx, earth.V_E_idx], inputs=[1, 2]\n)\n\nwith benchmark() as b:\n    res = BD.simulate(60, integrator_options=int_opts)"
      ]
    },
    {
      "cell_type": "code",
      "execution_count": null,
      "metadata": {
        "collapsed": false
      },
      "outputs": [],
      "source": [
        "plot_nesc_comparisons(res, \"13p4\")\nplot_F16_controls(res, \"13p4\")"
      ]
    }
  ],
  "metadata": {
    "kernelspec": {
      "display_name": "Python 3",
      "language": "python",
      "name": "python3"
    },
    "language_info": {
      "codemirror_mode": {
        "name": "ipython",
        "version": 3
      },
      "file_extension": ".py",
      "mimetype": "text/x-python",
      "name": "python",
      "nbconvert_exporter": "python",
      "pygments_lexer": "ipython3",
      "version": "3.8.10"
    }
  },
  "nbformat": 4,
  "nbformat_minor": 0
}