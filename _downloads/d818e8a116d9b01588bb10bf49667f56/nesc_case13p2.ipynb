{
  "cells": [
    {
      "cell_type": "code",
      "execution_count": null,
      "metadata": {
        "collapsed": false
      },
      "outputs": [],
      "source": [
        "%matplotlib inline"
      ]
    },
    {
      "cell_type": "markdown",
      "metadata": {},
      "source": [
        "\n# Case 13.2: Velocity change of a subsonic aircraft\n\n==============  ===============\nVerifies        Multidimensional table look-up\nGravitation     J2\nGeodesy         WGS-84 rotating\nAtmosphere      US 1976 STD\nWinds           still air\nVehicle         F-16 with simple auto-pilot\nNotes           Initially straight & level. t=5s, decrease commanded 5 KEAS\n==============  ===============\n\nFor the manuevering examples, the BlockDiagram from case 11 is modified to replace the\ncontroller with the auto-pilot configuration and generate the appropriate command\nsignals.\n"
      ]
    },
    {
      "cell_type": "code",
      "execution_count": null,
      "metadata": {
        "collapsed": false
      },
      "outputs": [],
      "source": [
        "from simupy import systems\nfrom scipy import interpolate\n\nfrom nesc_testcase_helper import plot_nesc_comparisons, plot_F16_controls, benchmark\nfrom nesc_case11 import (\n    int_opts,\n    F16ControllerBlock,\n    BD,\n    opt_ctrl,\n    dim_feedback,\n    trimmed_KEAS,\n)\n\nkeasCmdBlock = systems.SystemFromCallable(\n    interpolate.make_interp_spline([0, 5], [trimmed_KEAS, trimmed_KEAS - 5.0], k=0),\n    0,\n    1,\n)\n\nBD.systems[-4] = keasCmdBlock\nBD.systems[2] = F16ControllerBlock(*opt_ctrl, sasOn=True, apOn=True, event_t=5.)\n\nwith benchmark() as b:\n    res = BD.simulate(20, integrator_options=int_opts)"
      ]
    },
    {
      "cell_type": "code",
      "execution_count": null,
      "metadata": {
        "collapsed": false
      },
      "outputs": [],
      "source": [
        "plot_nesc_comparisons(res, \"13p2\")\nplot_F16_controls(res, \"13p2\")"
      ]
    }
  ],
  "metadata": {
    "kernelspec": {
      "display_name": "Python 3",
      "language": "python",
      "name": "python3"
    },
    "language_info": {
      "codemirror_mode": {
        "name": "ipython",
        "version": 3
      },
      "file_extension": ".py",
      "mimetype": "text/x-python",
      "name": "python",
      "nbconvert_exporter": "python",
      "pygments_lexer": "ipython3",
      "version": "3.8.12"
    }
  },
  "nbformat": 4,
  "nbformat_minor": 0
}